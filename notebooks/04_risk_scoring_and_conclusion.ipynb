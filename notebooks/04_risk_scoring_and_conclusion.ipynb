{
 "cells": [
  {
   "cell_type": "markdown",
   "id": "3cbe1960-52e7-43d7-b29e-ee2ca7e7e4a1",
   "metadata": {},
   "source": [
    "# ⚠️ Earthquake Risk Scoring & Final Report\n",
    "This notebook calculates risk scores based on spatial earthquake data and presents final conclusions."
   ]
  },
  {
   "cell_type": "code",
   "execution_count": 4,
   "id": "52bfbbb3-aec2-4491-9b37-b83cfff5914c",
   "metadata": {},
   "outputs": [],
   "source": [
    "import pandas as pd\n",
    "import numpy as np\n",
    "import matplotlib.pyplot as plt\n",
    "import seaborn as sns\n",
    "import folium\n",
    "\n",
    "df = pd.read_csv('../data/cleaned_earthquake_data.csv')"
   ]
  },
  {
   "cell_type": "code",
   "execution_count": 5,
   "id": "b2b01f09-ff9f-4e01-ba1a-fe56b45ed968",
   "metadata": {},
   "outputs": [],
   "source": [
    "df['lat_bin'] = pd.cut(df['latitude'], bins=np.arange(-90, 91, 5))\n",
    "df['lon_bin'] = pd.cut(df['longitude'], bins=np.arange(-180, 181, 5))"
   ]
  },
  {
   "cell_type": "code",
   "execution_count": 7,
   "id": "8335f996-7870-4f34-af9e-c8f015e56f71",
   "metadata": {},
   "outputs": [],
   "source": [
    "# Define a custom risk score: more magnitude, shallower depth, more frequency = more risk\n",
    "region_stats = df.groupby(['lat_bin', 'lon_bin'], observed=True).agg({\n",
    "    'mag': ['mean', 'count'],\n",
    "    'depth': 'mean'\n",
    "}).reset_index()\n",
    "\n",
    "region_stats.columns = ['lat_bin', 'lon_bin', 'mag_mean', 'event_count', 'depth_mean']\n",
    "region_stats['risk_score'] = (region_stats['mag_mean'] * 2 + region_stats['event_count']) / (region_stats['depth_mean'] + 1)\n"
   ]
  },
  {
   "cell_type": "markdown",
   "id": "2b60570d-e208-4590-8ba6-afc2e76df7b3",
   "metadata": {},
   "source": [
    "## ✅ Conclusions\n",
    "- Identified high-risk zones globally.\n",
    "- Risk scores are influenced by both geological activity and event intensity.\n",
    "- This methodology can be extended to real-time risk monitoring using streaming data."
   ]
  },
  {
   "cell_type": "code",
   "execution_count": null,
   "id": "cadf4725-c027-4fed-9879-5a32024fb40a",
   "metadata": {},
   "outputs": [],
   "source": []
  }
 ],
 "metadata": {
  "kernelspec": {
   "display_name": "Python 3 (ipykernel)",
   "language": "python",
   "name": "python3"
  },
  "language_info": {
   "codemirror_mode": {
    "name": "ipython",
    "version": 3
   },
   "file_extension": ".py",
   "mimetype": "text/x-python",
   "name": "python",
   "nbconvert_exporter": "python",
   "pygments_lexer": "ipython3",
   "version": "3.9.23"
  }
 },
 "nbformat": 4,
 "nbformat_minor": 5
}
